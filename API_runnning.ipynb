{
 "cells": [
  {
   "cell_type": "code",
   "execution_count": 4,
   "metadata": {},
   "outputs": [
    {
     "name": "stdout",
     "output_type": "stream",
     "text": [
      "JSON data has been saved to ali_express.json\n"
     ]
    }
   ],
   "source": [
    "import requests\n",
    "import json\n",
    "\n",
    "url = \"https://ali-express1.p.rapidapi.com/search\"\n",
    "\n",
    "querystring = {\"query\": \"Xiomi\", \"page\": \"1\"}\n",
    "\n",
    "headers = {\n",
    "    \"X-RapidAPI-Key\": \"c113f924f7msh28c9ccb647c425cp17acc4jsn60ce963f2c84\",\n",
    "    \"X-RapidAPI-Host\": \"ali-express1.p.rapidapi.com\"\n",
    "}\n",
    "\n",
    "response = requests.get(url, headers=headers, params=querystring)\n",
    "\n",
    "# Check if the request was successful (status code 200)\n",
    "if response.status_code == 200:\n",
    "    # Access the JSON content of the response\n",
    "    json_content = response.json()\n",
    "\n",
    "    file_path = \"ali_express.json\"\n",
    "\n",
    "    # Open the file in write mode and save the JSON data\n",
    "    with open(file_path, 'w') as file:\n",
    "        json.dump(json_content, file)\n",
    "\n",
    "    print(f\"JSON data has been saved to {file_path}\")\n",
    "else:\n",
    "    print(f\"Error: {response.status_code} - {response.text}\")\n"
   ]
  },
  {
   "cell_type": "code",
   "execution_count": 5,
   "metadata": {},
   "outputs": [
    {
     "name": "stdout",
     "output_type": "stream",
     "text": [
      "JSON data has been saved to amazon.json\n"
     ]
    }
   ],
   "source": [
    "import requests\n",
    "\n",
    "url = \"https://real-time-amazon-data.p.rapidapi.com/search\"\n",
    "\n",
    "querystring = {\"query\":\"Phone\",\"page\":\"1\",\"country\":\"US\",\"category_id\":\"aps\"}\n",
    "\n",
    "headers = {\n",
    "\t\"X-RapidAPI-Key\": \"c113f924f7msh28c9ccb647c425cp17acc4jsn60ce963f2c84\",\n",
    "\t\"X-RapidAPI-Host\": \"real-time-amazon-data.p.rapidapi.com\"\n",
    "}\n",
    "\n",
    "response = requests.get(url, headers=headers, params=querystring)\n",
    "\n",
    "# Check if the request was successful (status code 200)\n",
    "if response.status_code == 200:\n",
    "    # Access the JSON content of the response\n",
    "    json_content = response.json()\n",
    "\n",
    "    file_path = \"amazon.json\"\n",
    "\n",
    "    # Open the file in write mode and save the JSON data\n",
    "    with open(file_path, 'w') as file:\n",
    "        json.dump(json_content, file)\n",
    "\n",
    "    print(f\"JSON data has been saved to {file_path}\")\n",
    "else:\n",
    "    print(f\"Error: {response.status_code} - {response.text}\")\n",
    "    "
   ]
  },
  {
   "cell_type": "code",
   "execution_count": 10,
   "metadata": {},
   "outputs": [
    {
     "name": "stdout",
     "output_type": "stream",
     "text": [
      "JSON data has been saved to ali_express.json\n"
     ]
    }
   ],
   "source": [
    "import requests\n",
    "\n",
    "url = \"https://aliexpress-datahub.p.rapidapi.com/item_search\"\n",
    "\n",
    "querystring = {\"q\":\"iphone\",\"page\":\"1\"}\n",
    "\n",
    "headers = {\n",
    "\t\"X-RapidAPI-Key\": \"c113f924f7msh28c9ccb647c425cp17acc4jsn60ce963f2c84\",\n",
    "\t\"X-RapidAPI-Host\": \"aliexpress-datahub.p.rapidapi.com\"\n",
    "}\n",
    "\n",
    "response = requests.get(url, headers=headers, params=querystring)\n",
    "\n",
    "# Check if the request was successful (status code 200)\n",
    "if response.status_code == 200:\n",
    "    # Access the JSON content of the response\n",
    "    json_content = response.json()\n",
    "\n",
    "    file_path = \"ali_express.json\"\n",
    "\n",
    "    # Open the file in write mode and save the JSON data\n",
    "    with open(file_path, 'w') as file:\n",
    "        json.dump(json_content, file)\n",
    "\n",
    "    print(f\"JSON data has been saved to {file_path}\")\n",
    "else:\n",
    "    print(f\"Error: {response.status_code} - {response.text}\")"
   ]
  },
  {
   "cell_type": "code",
   "execution_count": 2,
   "metadata": {},
   "outputs": [
    {
     "name": "stdout",
     "output_type": "stream",
     "text": [
      "{'message': 'You are not subscribed to this API.'}\n"
     ]
    }
   ],
   "source": [
    "import requests\n",
    "\n",
    "url = \"https://search-walmart.p.rapidapi.com/\"\n",
    "\n",
    "querystring = {\"name\":\"laptop\"}\n",
    "\n",
    "headers = {\n",
    "\t\"X-RapidAPI-Key\": \"c113f924f7msh28c9ccb647c425cp17acc4jsn60ce963f2c84\",\n",
    "\t\"X-RapidAPI-Host\": \"search-walmart.p.rapidapi.com\"\n",
    "}\n",
    "\n",
    "response = requests.get(url, headers=headers, params=querystring)\n",
    "\n",
    "print(response.json())"
   ]
  },
  {
   "cell_type": "code",
   "execution_count": null,
   "metadata": {},
   "outputs": [],
   "source": []
  }
 ],
 "metadata": {
  "kernelspec": {
   "display_name": "Python 3",
   "language": "python",
   "name": "python3"
  },
  "language_info": {
   "codemirror_mode": {
    "name": "ipython",
    "version": 3
   },
   "file_extension": ".py",
   "mimetype": "text/x-python",
   "name": "python",
   "nbconvert_exporter": "python",
   "pygments_lexer": "ipython3",
   "version": "3.9.13"
  }
 },
 "nbformat": 4,
 "nbformat_minor": 2
}
